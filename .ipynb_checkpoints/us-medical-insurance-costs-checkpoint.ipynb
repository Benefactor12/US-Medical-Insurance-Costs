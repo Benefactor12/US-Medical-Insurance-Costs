{
 "cells": [
  {
   "cell_type": "markdown",
   "metadata": {},
   "source": [
    "# U.S. Medical Insurance Costs"
   ]
  },
  {
   "cell_type": "markdown",
   "metadata": {},
   "source": [
    "`Goal:` explore the data and find relationships between variables.\n",
    "\n",
    "`Questions to answer:`\n",
    "1. What is the average age in the dataset?\n",
    "2. Whom we have more males or females?\n",
    "3. Who has the largest and the smallest insurance cost?\n",
    "4. What is the InterQuartile Range of insurance cost?\n",
    "5. What is the average difference between actual and expected insurance cost?"
   ]
  },
  {
   "cell_type": "code",
   "execution_count": 85,
   "metadata": {},
   "outputs": [],
   "source": [
    "#Importing necessary modules and putting data into its lists\n",
    "import csv\n",
    "import matplotlib.pyplot as plt\n",
    "import seaborn as sns\n",
    "import numpy as np\n",
    "import scipy.stats as stats\n",
    "\n",
    "age, sex, bmi, children, smoker, region, charges = [], [], [], [], [], [], []\n",
    "\n",
    "with open('insurance.csv') as insurance_csv:\n",
    "    insurance_data = csv.DictReader(insurance_csv)\n",
    "    for row in insurance_data:\n",
    "        age.append(int(row['age']))\n",
    "        sex.append(row['sex'])\n",
    "        bmi.append(float(row['bmi']))\n",
    "        children.append(int(row['children']))\n",
    "        if row['smoker']=='yes':\n",
    "            smoker.append(1)\n",
    "        else:\n",
    "            smoker.append(0)\n",
    "        region.append(row['region'])\n",
    "        charges.append(float(row['charges']))"
   ]
  },
  {
   "cell_type": "markdown",
   "metadata": {},
   "source": [
    "### #1 What is the average age in the dataset?"
   ]
  },
  {
   "cell_type": "code",
   "execution_count": 86,
   "metadata": {},
   "outputs": [],
   "source": [
    "# Defining a function that calculate average value\n",
    "def average(values):\n",
    "    total = 0\n",
    "    for i in values:\n",
    "        total += i\n",
    "    return round(total/len(values), 0)"
   ]
  },
  {
   "cell_type": "code",
   "execution_count": 87,
   "metadata": {},
   "outputs": [
    {
     "name": "stdout",
     "output_type": "stream",
     "text": [
      "Average age in the dataset is 39.0 years old\n"
     ]
    }
   ],
   "source": [
    "print('Average age in the dataset is {} years old'.format(average(age)))"
   ]
  },
  {
   "cell_type": "code",
   "execution_count": 88,
   "metadata": {},
   "outputs": [
    {
     "data": {
      "image/png": "[encoded data removed]",
      "text/plain": [
       "<Figure size 432x288 with 1 Axes>"
      ]
     },
     "metadata": {
      "needs_background": "light"
     },
     "output_type": "display_data"
    },
    {
     "data": {
      "text/plain": [
       "<Figure size 432x288 with 0 Axes>"
      ]
     },
     "metadata": {},
     "output_type": "display_data"
    }
   ],
   "source": [
    "# Making a histogram of age\n",
    "plt.hist(age, color='green', alpha=0.6, bins=10)\n",
    "plt.vlines(x=39.0, ymin=0, ymax=250, color='red')\n",
    "plt.xlabel('Ages')\n",
    "plt.ylabel('Count')\n",
    "plt.title('Distribution of age in the dataset')\n",
    "plt.show()\n",
    "plt.clf()"
   ]
  },
  {
   "cell_type": "markdown",
   "metadata": {},
   "source": [
    "### #2 Whom we have more, males or females?"
   ]
  },
  {
   "cell_type": "code",
   "execution_count": 89,
   "metadata": {},
   "outputs": [],
   "source": [
    "def males_vs_females(sex_list):\n",
    "    males = sex_list.count('male')\n",
    "    females = sex_list.count('female')\n",
    "    return ('males', males), ('females', females)"
   ]
  },
  {
   "cell_type": "code",
   "execution_count": 90,
   "metadata": {},
   "outputs": [
    {
     "name": "stdout",
     "output_type": "stream",
     "text": [
      "Males 676, Females 662\n"
     ]
    }
   ],
   "source": [
    "sex_result = males_vs_females(sex)\n",
    "print('Males {}, Females {}'.format(sex_result[0][1], sex_result[1][1]))"
   ]
  },
  {
   "cell_type": "code",
   "execution_count": 91,
   "metadata": {},
   "outputs": [
    {
     "data": {
      "image/png": "[encoded data removed]",
      "text/plain": [
       "<Figure size 432x288 with 1 Axes>"
      ]
     },
     "metadata": {
      "needs_background": "light"
     },
     "output_type": "display_data"
    }
   ],
   "source": [
    "# Making a countplot\n",
    "sns.countplot(x = sex)\n",
    "plt.title('Count plot of genders')\n",
    "plt.show()"
   ]
  },
  {
   "cell_type": "markdown",
   "metadata": {},
   "source": [
    "### #3 Who has the largest and the smallest insurance cost?"
   ]
  },
  {
   "cell_type": "code",
   "execution_count": 92,
   "metadata": {},
   "outputs": [],
   "source": [
    "# Defining a function that finds a person with the largest insurance cost\n",
    "def largest_insurance_cost(age_list, sex_list, bmi_list, children_list, smoker_list, region_list, charges_list):\n",
    "    information = []\n",
    "    max = -1\n",
    "    for i in range(len(charges_list)):\n",
    "        if max < charges_list[i]:\n",
    "            max = charges_list[i]\n",
    "            information = [age_list[i], sex_list[i], bmi_list[i], children_list[i], smoker_list[i], region_list[i], charges_list[i]]\n",
    "    return information"
   ]
  },
  {
   "cell_type": "code",
   "execution_count": 93,
   "metadata": {},
   "outputs": [
    {
     "name": "stdout",
     "output_type": "stream",
     "text": [
      "Age 54, Gender female, BMI 47.41, Number of children 0, Smoker 1, Region southeast, Amount charged 63770.42801\n"
     ]
    }
   ],
   "source": [
    "lcost_result = largest_insurance_cost(age, sex, bmi, children, smoker, region, charges)\n",
    "print('Age {}, Gender {}, BMI {}, Number of children {}, Smoker {}, Region {}, Amount charged {}'.format(lcost_result[0], lcost_result[1], lcost_result[2], lcost_result[3], lcost_result[4], lcost_result[5], lcost_result[6]))"
   ]
  },
  {
   "cell_type": "code",
   "execution_count": 94,
   "metadata": {},
   "outputs": [],
   "source": [
    "# Defining a function that finds a person with the smalest insurance cost\n",
    "def smallest_insurance_cost(age_list, sex_list, bmi_list, children_list, smoker_list, region_list, charges_list):\n",
    "    information = []\n",
    "    min = 10000000000000000000000000000000\n",
    "    for i in range(len(charges_list)):\n",
    "        if min > charges_list[i]:\n",
    "            min = charges_list[i]\n",
    "            information = [age_list[i], sex_list[i], bmi_list[i], children_list[i], smoker_list[i], region_list[i], charges_list[i]]\n",
    "    return information"
   ]
  },
  {
   "cell_type": "code",
   "execution_count": 95,
   "metadata": {},
   "outputs": [
    {
     "name": "stdout",
     "output_type": "stream",
     "text": [
      "Age 18, Gender male, BMI 23.21, Number of children 0, Smoker 0, Region southeast, Amount charged 1121.8739\n"
     ]
    }
   ],
   "source": [
    "scost_result = smallest_insurance_cost(age, sex, bmi, children, smoker, region, charges)\n",
    "print('Age {}, Gender {}, BMI {}, Number of children {}, Smoker {}, Region {}, Amount charged {}'.format(scost_result[0], scost_result[1], scost_result[2], scost_result[3], scost_result[4], scost_result[5], scost_result[6]))"
   ]
  },
  {
   "cell_type": "markdown",
   "metadata": {},
   "source": [
    "### #4 What is the InterQuartile Range of insurance cost?"
   ]
  },
  {
   "cell_type": "code",
   "execution_count": 96,
   "metadata": {},
   "outputs": [
    {
     "data": {
      "image/png": "[encoded data removed]",
      "text/plain": [
       "<Figure size 432x288 with 1 Axes>"
      ]
     },
     "metadata": {
      "needs_background": "light"
     },
     "output_type": "display_data"
    }
   ],
   "source": [
    "# Making a boxplot of insurance costs\n",
    "sns.boxplot(x=charges)\n",
    "plt.xlabel('Insurance cost')\n",
    "plt.title('Box plot of Insurance cost')\n",
    "plt.show()"
   ]
  },
  {
   "cell_type": "code",
   "execution_count": 99,
   "metadata": {},
   "outputs": [
    {
     "name": "stdout",
     "output_type": "stream",
     "text": [
      "IQR is 11899.625365, Q2 is 4740.28715, Median is 9382.033, Q3 is 16639.912515\n"
     ]
    }
   ],
   "source": [
    "print('IQR is {}, Q2 is {}, Median is {}, Q3 is {}'.format(stats.iqr(charges), np.quantile(charges, 0.25), np.median(charges), np.quantile(charges, 0.75)))"
   ]
  },
  {
   "cell_type": "markdown",
   "metadata": {},
   "source": [
    "### #5 What is the average difference between actual and expected insurance cost?"
   ]
  },
  {
   "cell_type": "code",
   "execution_count": null,
   "metadata": {},
   "outputs": [],
   "source": [
    "def estimated_insurance_cost(age, sex, bmi, children, smoker):\n",
    "    estimated_cost = 250*age - 128*sex + 370*bmi + 425*children + 24000*smoker - 12500\n",
    "    return estimated_cost\n",
    "\n",
    "def average_estimated_insurance_cost(age_list, sex_list, bmi_list, children_list, smoker_list, charges):\n",
    "    total = 0\n",
    "    for i in range(len(sex_list)):\n",
    "        if sex_list[i] == 'male':\n",
    "            sex_list[i] = 1\n",
    "        else:\n",
    "            sex_list[i] = 0\n",
    "    for i in range(len(age_list)):\n",
    "        difference = abs(charges[i] - estimated_insurance_cost(age_list[i], sex_list[i], bmi_list[i], children_list[i], smoker_list[i]))\n",
    "        total += difference\n",
    "    return round(total/len(age_list), 2)"
   ]
  },
  {
   "cell_type": "code",
   "execution_count": 102,
   "metadata": {},
   "outputs": [
    {
     "name": "stdout",
     "output_type": "stream",
     "text": [
      "Average difference between actual and expected insurance cost is 4458.18\n"
     ]
    }
   ],
   "source": [
    "av_es_result = average_estimated_insurance_cost(age, sex, bmi, children, smoker, charges)\n",
    "print('Average difference between actual and expected insurance cost is {}'.format(av_es_result))"
   ]
  },
  {
   "cell_type": "markdown",
   "metadata": {},
   "source": [
    "## `Conclusion`\n",
    "\n",
    "\n",
    "#### #1 What is the average age in the dataset?\n",
    "\n",
    "The average age in the dataset is 39 years.\n",
    "\n",
    "#### #2 Whom we have more males or females?\n",
    "\n",
    "We have almost equal amount of males and females, males - 676, females - 662.\n",
    "\n",
    "#### #3 Who has the largest and the smallest insurance cost?\n",
    "\n",
    "The largest insurance cost has 54 year old woman, with a BMI of 47.41, without any children and she smokes, her insurance cost equals 63770.43 dollars. \n",
    "The smallest insurance cost has 18 year old boy, with a BMI of 23.21, without any children and  he doesn't smoke, his insurance cost equals 1121.87 dollars.\n",
    "\n",
    "#### #4. What is the InterQuartile Range of insurance cost?\n",
    "\n",
    "The IQR of insurance cost equals 11899.62 dollars.\n",
    "\n",
    "#### #5 What is the average difference between actual and expected insurance cost?\n",
    "\n",
    "The average difference between actual and expected insurance cost is 4458.18 dollars."
   ]
  }
 ],
 "metadata": {
  "kernelspec": {
   "display_name": "Python 3 (ipykernel)",
   "language": "python",
   "name": "python3"
  },
  "language_info": {
   "codemirror_mode": {
    "name": "ipython",
    "version": 3
   },
   "file_extension": ".py",
   "mimetype": "text/x-python",
   "name": "python",
   "nbconvert_exporter": "python",
   "pygments_lexer": "ipython3",
   "version": "3.9.7"
  }
 },
 "nbformat": 4,
 "nbformat_minor": 4
}
