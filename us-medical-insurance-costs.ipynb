{
 "cells": [
  {
   "cell_type": "markdown",
   "metadata": {},
   "source": [
    "# U.S. Medical Insurance Costs"
   ]
  },
  {
   "cell_type": "markdown",
   "metadata": {},
   "source": [
    "Goal: explore the data and find relationships between variables.\n",
    "Answer this questions:\n",
    "1. What is the average age in the dataset?\n",
    "2. Whom we have more males or females?\n",
    "3. Who has the largest and the smallest insurance cost?\n",
    "4. What is the average insurance cost?\n",
    "5. What is the average difference between actual and expected insurance cost?"
   ]
  },
  {
   "cell_type": "code",
   "execution_count": 17,
   "metadata": {},
   "outputs": [],
   "source": [
    "import csv\n",
    "age, sex, bmi, children, smoker, region, charges = [], [], [], [], [], [], []\n",
    "with open('insurance.csv') as insurance_csv:\n",
    "    insurance_data = csv.DictReader(insurance_csv)\n",
    "    for row in insurance_data:\n",
    "        age.append(int(row['age']))\n",
    "        sex.append(row['sex'])\n",
    "        bmi.append(float(row['bmi']))\n",
    "        children.append(int(row['children']))\n",
    "        if row['smoker']=='yes':\n",
    "            smoker.append(1)\n",
    "        else:\n",
    "            smoker.append(0)\n",
    "        region.append(row['region'])\n",
    "        charges.append(float(row['charges']))"
   ]
  },
  {
   "cell_type": "markdown",
   "metadata": {},
   "source": [
    "1. What is the average age in the dataset?"
   ]
  },
  {
   "cell_type": "code",
   "execution_count": 26,
   "metadata": {},
   "outputs": [],
   "source": [
    "def average_age(age_list):\n",
    "    total = 0\n",
    "    for i in age_list:\n",
    "        total += i\n",
    "    return round(total/len(age_list), 2)"
   ]
  },
  {
   "cell_type": "code",
   "execution_count": 27,
   "metadata": {},
   "outputs": [
    {
     "name": "stdout",
     "output_type": "stream",
     "text": [
      "39.21\n"
     ]
    }
   ],
   "source": [
    "print(average_age(age))"
   ]
  },
  {
   "cell_type": "markdown",
   "metadata": {},
   "source": [
    "2. Whom we have more, males or females?"
   ]
  },
  {
   "cell_type": "code",
   "execution_count": 39,
   "metadata": {},
   "outputs": [],
   "source": [
    "def males_vs_females(sex_list):\n",
    "    males = sex_list.count('male')\n",
    "    females = sex_list.count('female')\n",
    "    return ('males', males), ('females', females)"
   ]
  },
  {
   "cell_type": "code",
   "execution_count": 40,
   "metadata": {},
   "outputs": [
    {
     "name": "stdout",
     "output_type": "stream",
     "text": [
      "(('males', 676), ('females', 662))\n"
     ]
    }
   ],
   "source": [
    "print(males_vs_females(sex))"
   ]
  },
  {
   "cell_type": "markdown",
   "metadata": {},
   "source": [
    "3. Who has the largest and the smallest insurance cost?"
   ]
  },
  {
   "cell_type": "code",
   "execution_count": 48,
   "metadata": {},
   "outputs": [],
   "source": [
    "def largest_insurance_cost(age_list, sex_list, bmi_list, children_list, smoker_list, region_list, charges_list):\n",
    "    information = []\n",
    "    max = -1\n",
    "    for i in range(len(charges_list)):\n",
    "        if max < charges_list[i]:\n",
    "            max = charges_list[i]\n",
    "            information = [age_list[i], sex_list[i], bmi_list[i], children_list[i], smoker_list[i], region_list[i], charges_list[i]]\n",
    "    return information"
   ]
  },
  {
   "cell_type": "code",
   "execution_count": 49,
   "metadata": {},
   "outputs": [
    {
     "name": "stdout",
     "output_type": "stream",
     "text": [
      "[54, 'female', 47.41, 0, 1, 'southeast', 63770.42801]\n"
     ]
    }
   ],
   "source": [
    "print(largest_insurance_cost(age, sex, bmi, children, smoker, region, charges))"
   ]
  },
  {
   "cell_type": "code",
   "execution_count": 50,
   "metadata": {},
   "outputs": [],
   "source": [
    "def smallest_insurance_cost(age_list, sex_list, bmi_list, children_list, smoker_list, region_list, charges_list):\n",
    "    information = []\n",
    "    min = 10000000000000000000000000000000\n",
    "    for i in range(len(charges_list)):\n",
    "        if min > charges_list[i]:\n",
    "            min = charges_list[i]\n",
    "            information = [age_list[i], sex_list[i], bmi_list[i], children_list[i], smoker_list[i], region_list[i], charges_list[i]]\n",
    "    return information"
   ]
  },
  {
   "cell_type": "code",
   "execution_count": 51,
   "metadata": {},
   "outputs": [
    {
     "name": "stdout",
     "output_type": "stream",
     "text": [
      "[18, 'male', 23.21, 0, 0, 'southeast', 1121.8739]\n"
     ]
    }
   ],
   "source": [
    "print(smallest_insurance_cost(age, sex, bmi, children, smoker, region, charges))"
   ]
  },
  {
   "cell_type": "markdown",
   "metadata": {},
   "source": [
    "4. What is the average insurance cost?"
   ]
  },
  {
   "cell_type": "code",
   "execution_count": 54,
   "metadata": {},
   "outputs": [],
   "source": [
    "def average_insurance_cost(charges_list):\n",
    "    total = 0\n",
    "    for i in charges_list:\n",
    "        total += i\n",
    "    return round(total/len(charges_list), 2)"
   ]
  },
  {
   "cell_type": "code",
   "execution_count": 55,
   "metadata": {},
   "outputs": [
    {
     "name": "stdout",
     "output_type": "stream",
     "text": [
      "13270.42\n"
     ]
    }
   ],
   "source": [
    "print(average_insurance_cost(charges))"
   ]
  },
  {
   "cell_type": "markdown",
   "metadata": {},
   "source": [
    "5. What is the average difference between actual and expected insurance cost?"
   ]
  },
  {
   "cell_type": "code",
   "execution_count": 67,
   "metadata": {},
   "outputs": [],
   "source": [
    "def estimated_insurance_cost(age, sex, bmi, children, smoker):\n",
    "    estimated_cost = 250*age - 128*sex + 370*bmi + 425*children + 24000*smoker - 12500\n",
    "    return estimated_cost\n",
    "\n",
    "def average_estimated_insurance_cost(age_list, sex_list, bmi_list, children_list, smoker_list, charges):\n",
    "    total = 0\n",
    "    for i in range(len(sex_list)):\n",
    "        if sex_list[i] == 'male':\n",
    "            sex_list[i] = 1\n",
    "        else:\n",
    "            sex_list[i] = 0\n",
    "    for i in range(len(age_list)):\n",
    "        difference = abs(charges[i] - estimated_insurance_cost(age_list[i], sex_list[i], bmi_list[i], children_list[i], smoker_list[i]))\n",
    "        total += difference\n",
    "    return round(total/len(age_list), 2)"
   ]
  },
  {
   "cell_type": "code",
   "execution_count": 68,
   "metadata": {},
   "outputs": [
    {
     "name": "stdout",
     "output_type": "stream",
     "text": [
      "4458.18\n"
     ]
    }
   ],
   "source": [
    "print(average_estimated_insurance_cost(age, sex, bmi, children, smoker, charges))"
   ]
  },
  {
   "cell_type": "markdown",
   "metadata": {},
   "source": [
    "Answers: \n",
    "1. The average age in the dataset is 39 years.\n",
    "2.  We have almost equal amount of males and females, males - 676, females - 662.\n",
    "3. The largest insurance cost has 54 year old woman, with a BMI of 47.41, without any children and she smokes, her insurance cost equals 63770.43 dollars. \n",
    "The smallest insurance cost has 18 year old boy, with a BMI of 23.21, without any children and  he doesn't smoke, his insurance cost equals 1121.87 dollars.\n",
    "4. The average insurance cost equals 13270.42 dollars.\n",
    "5. The average difference between actual and expected insurance cost is 4458.18 dollars."
   ]
  }
 ],
 "metadata": {
  "kernelspec": {
   "display_name": "Python 3 (ipykernel)",
   "language": "python",
   "name": "python3"
  },
  "language_info": {
   "codemirror_mode": {
    "name": "ipython",
    "version": 3
   },
   "file_extension": ".py",
   "mimetype": "text/x-python",
   "name": "python",
   "nbconvert_exporter": "python",
   "pygments_lexer": "ipython3",
   "version": "3.9.7"
  }
 },
 "nbformat": 4,
 "nbformat_minor": 4
}
